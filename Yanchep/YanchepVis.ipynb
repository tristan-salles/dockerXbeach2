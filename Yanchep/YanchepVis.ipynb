{
 "cells": [
  {
   "cell_type": "markdown",
   "metadata": {},
   "source": [
    "# Yanchep Lagoon Model Output Creation\n",
    "\n",
    "First we need to load the IPython libraries:"
   ]
  },
  {
   "cell_type": "code",
   "execution_count": null,
   "metadata": {
    "collapsed": false
   },
   "outputs": [],
   "source": [
    "%pylab inline\n",
    "%matplotlib inline\n",
    "import os\n",
    "import glob\n",
    "import h5py\n",
    "import netCDF4\n",
    "import numpy as np\n",
    "from scipy import signal\n",
    "from scipy import interpolate"
   ]
  },
  {
   "cell_type": "markdown",
   "metadata": {},
   "source": [
    "# Loading XBeach output\n",
    "\n",
    "The netcdf file is located in the same location as your input files, we use the IPython netCDF4 functionality to load the data file. Using the `variables.keys()`, we can see all the parameters outputed by XBeach"
   ]
  },
  {
   "cell_type": "code",
   "execution_count": null,
   "metadata": {
    "collapsed": false
   },
   "outputs": [],
   "source": [
    "nc_data = netCDF4.Dataset('xboutput.nc')\n",
    "print nc_data.variables.keys()"
   ]
  },
  {
   "cell_type": "markdown",
   "metadata": {},
   "source": [
    "To query the type/definition of each of the `netcdf` keys we can do:"
   ]
  },
  {
   "cell_type": "code",
   "execution_count": null,
   "metadata": {
    "collapsed": false
   },
   "outputs": [],
   "source": [
    "nc_data.variables['globalx']"
   ]
  },
  {
   "cell_type": "markdown",
   "metadata": {},
   "source": [
    "# Get visualisation parameters"
   ]
  },
  {
   "cell_type": "code",
   "execution_count": null,
   "metadata": {
    "collapsed": false
   },
   "outputs": [],
   "source": [
    "# Export the stored time values\n",
    "time = nc_data.variables['globaltime'][:]\n",
    "# Export the X-axis values of the profile\n",
    "x = nc_data.variables['globalx'][:,:]\n",
    "# Export the X-axis values of the profile\n",
    "y = nc_data.variables['globaly'][:,:]\n",
    "# Export the bed elevation\n",
    "zb = nc_data.variables['zb'][:,:,:]\n",
    "# Export the wave height\n",
    "H = nc_data.variables['H'][:,:,:]\n",
    "# Export the water level\n",
    "zs = nc_data.variables['zs'][:,:,:]\n",
    "# Export sedimentation/erosion\n",
    "sedero = nc_data.variables['sedero'][:,:,:]\n",
    "# Export total bed level change due to avalanching\n",
    "dzav = nc_data.variables['dzav'][:,:,:]\n",
    "# Export x-axis velocity\n",
    "u = nc_data.variables['u'][:,:,:]\n",
    "# Export y-axis velocity\n",
    "v = nc_data.variables['v'][:,:,:]\n",
    "# Export x-axis wave force\n",
    "Fx = nc_data.variables['Fx'][:,:,:]\n",
    "# Export y-axis wave force\n",
    "Fy = nc_data.variables['Fy'][:,:,:]"
   ]
  },
  {
   "cell_type": "markdown",
   "metadata": {},
   "source": [
    "Find the grid resolution"
   ]
  },
  {
   "cell_type": "code",
   "execution_count": null,
   "metadata": {
    "collapsed": false
   },
   "outputs": [],
   "source": [
    "diffx = np.diff(x,axis=1)\n",
    "diffy = np.diff(y,axis=1)\n",
    "dx = np.sqrt(diffx.min()**2+diffy.min()**2)\n",
    "print 'Model resolution (m):',dx"
   ]
  },
  {
   "cell_type": "markdown",
   "metadata": {},
   "source": [
    "## Interpolation on a 5-m regular grid\n",
    "\n",
    "First we define the 5-m resolution coordinate system based on Yanchep grid:"
   ]
  },
  {
   "cell_type": "code",
   "execution_count": null,
   "metadata": {
    "collapsed": false
   },
   "outputs": [],
   "source": [
    "nx = x.shape[1]\n",
    "ny = x.shape[0]\n",
    "xi = np.linspace(0., nx*dx, nx)\n",
    "yi = np.linspace(0., ny*dx, ny)\n",
    "mxi, myi = np.meshgrid(xi, yi)\n",
    "\n",
    "# We define the new coordinate system\n",
    "xnew = np.linspace(0., nx*dx, 2*nx+1)\n",
    "ynew = np.linspace(0., ny*dx, 2*ny+1)\n",
    "newxi, newyi = np.meshgrid(xnew, ynew)"
   ]
  },
  {
   "cell_type": "code",
   "execution_count": null,
   "metadata": {
    "collapsed": false
   },
   "outputs": [],
   "source": [
    "def gaussianFilter(sizex,sizey=None,scale=0.333):\n",
    "    '''\n",
    "    Generate and return a 2D Gaussian function\n",
    "    of dimensions (sizex,sizey)\n",
    "\n",
    "    If sizey is not set, it defaults to sizex\n",
    "    A scale can be defined to widen the function (default = 0.333)\n",
    "    '''\n",
    "    sizey = sizey or sizex\n",
    "    x, y = np.mgrid[-sizex:sizex+1, -sizey:sizey+1]\n",
    "    g = np.exp(-scale*(x**2/float(sizex)+y**2/float(sizey)))\n",
    "    \n",
    "    return g/g.sum()\n",
    "\n",
    "def smoothData(dem, smth=1):\n",
    "    '''\n",
    "    Calculate the slope and gradient of a DEM\n",
    "    '''\n",
    "    \n",
    "    gaussZ = np.zeros((dem.shape[0]+6,dem.shape[1]+6))\n",
    "    gaussZ[3:-3,3:-3] = dem\n",
    "\n",
    "    f0 = gaussianFilter(smth)\n",
    "    smoothDEM = signal.convolve(gaussZ,f0,mode='valid')\n",
    "    \n",
    "    return smoothDEM[2:-2,2:-2]"
   ]
  },
  {
   "cell_type": "markdown",
   "metadata": {},
   "source": [
    "## Create the hdf5 files for Paraview\n",
    "\n",
    "First we set the folder name that will be used to store the file"
   ]
  },
  {
   "cell_type": "code",
   "execution_count": null,
   "metadata": {
    "collapsed": false
   },
   "outputs": [],
   "source": [
    "outDir = 'output'\n",
    "\n",
    "if os.path.exists(outDir):\n",
    "    outDir += '_'+str(len(glob.glob(outDir+str('*')))-1)\n",
    "os.makedirs(outDir)\n",
    "\n",
    "print 'data will be stored in the following folder: ',outDir"
   ]
  },
  {
   "cell_type": "markdown",
   "metadata": {},
   "source": [
    "Then we write the files"
   ]
  },
  {
   "cell_type": "code",
   "execution_count": null,
   "metadata": {
    "collapsed": false,
    "scrolled": true
   },
   "outputs": [],
   "source": [
    "for step in range(len(time)-1):\n",
    "    print 'Performing step:',step,'out of:',len(time)-1\n",
    "    f1 = interpolate.interp2d(xi, yi, zb[step,:,:], kind='cubic')\n",
    "    znew = f1(xnew, ynew)\n",
    "    f2 = interpolate.interp2d(xi, yi, H[step,:,:]+zs[step,:,:], kind='cubic')\n",
    "    Hnew = f2(xnew, ynew)\n",
    "    f3 = interpolate.interp2d(xi, yi, sedero[step,:,:], kind='cubic')\n",
    "    sederonew = f3(xnew, ynew)\n",
    "    f4 = interpolate.interp2d(xi, yi, dzav[step,:,:], kind='cubic')\n",
    "    dzavnew = f4(xnew, ynew)\n",
    "    f5 = interpolate.interp2d(xi, yi, u[step,:,:], kind='cubic')\n",
    "    unew = f5(xnew, ynew)\n",
    "    f6 = interpolate.interp2d(xi, yi, v[step,:,:], kind='cubic')\n",
    "    vnew = f6(xnew, ynew)\n",
    "    f7 = interpolate.interp2d(xi, yi, Fx[step,:,:], kind='cubic')\n",
    "    Fxnew = f7(xnew, ynew)\n",
    "    f8 = interpolate.interp2d(xi, yi, Fy[step,:,:], kind='cubic')\n",
    "    Fynew = f8(xnew, ynew)\n",
    "    \n",
    "    h5file = str(outDir)+'/data'+str(step)+'.hdf5'\n",
    "    h5ff = 'data'+str(step)+'.hdf5'\n",
    "    with h5py.File(h5file, \"w\") as f:\n",
    "        f.create_dataset('zb',shape=(znew.shape), dtype='float32', compression='gzip')\n",
    "        f[\"zb\"][:,:] = znew\n",
    "        f.create_dataset('H',shape=(Hnew.shape), dtype='float32', compression='gzip')\n",
    "        f[\"H\"][:,:] = Hnew\n",
    "        f.create_dataset('sedero',shape=(sederonew.shape), dtype='float32', compression='gzip')\n",
    "        f[\"sedero\"][:,:] = sederonew\n",
    "        f.create_dataset('dzav',shape=(dzavnew.shape), dtype='float32', compression='gzip')\n",
    "        f[\"dzav\"][:,:] = dzavnew\n",
    "        f.create_dataset('u',shape=(unew.shape), dtype='float32', compression='gzip')\n",
    "        f[\"u\"][:,:] = unew\n",
    "        f.create_dataset('v',shape=(vnew.shape), dtype='float32', compression='gzip')\n",
    "        f[\"v\"][:,:] = vnew\n",
    "        f.create_dataset('Fx',shape=(Fxnew.shape), dtype='float32', compression='gzip')\n",
    "        f[\"Fx\"][:,:] = Fxnew\n",
    "        f.create_dataset('Fy',shape=(Fynew.shape), dtype='float32', compression='gzip')\n",
    "        f[\"Fy\"][:,:] = Fynew\n",
    "        \n",
    "    xmf_file = str(outDir)+'/bed'+str(step)+'.xmf'\n",
    "    f= open(str(xmf_file),'w')\n",
    "    f.write('<?xml version=\"1.0\" encoding=\"UTF-8\"?>\\n')\n",
    "    f.write('<!DOCTYPE Xdmf SYSTEM \"Xdmf.dtd\">\\n')\n",
    "    f.write('<Xdmf Version=\"2.0\" xmlns:xi=\"http://www.w3.org/2001/XInclude\">\\n')\n",
    "    f.write(' <Domain>\\n')\n",
    "    f.write('    <Grid GridType=\"Collection\" CollectionType=\"Spatial\">\\n')\n",
    "    f.write('      <Time Type=\"Single\" Value=\"%s\"/>\\n'%time[step])\n",
    "    f.write('      <Grid Name=\"Block.0\" GridType=\"Uniform\">\\n')\n",
    "    f.write('         <Topology Type=\"2DCoRectMesh\" NumberOfElements=')\n",
    "    f.write('\"%d %d\"/>\\n'%(znew.shape[0],znew.shape[1]))\n",
    "    f.write('         <Geometry Type=\"ORIGIN_DXDY\">\\n')\n",
    "    f.write('          <DataItem NumberType=\"Float\" Precision=\"4\" ')\n",
    "    f.write('Dimensions=\"%d\">0. 0.</DataItem>\\n'%2)\n",
    "    f.write('          <DataItem NumberType=\"Float\" Precision=\"4\" ')\n",
    "    f.write('Dimensions=\"%d\">10. 10.</DataItem>\\n'%2)\n",
    "    f.write('         </Geometry>\\n')\n",
    "\n",
    "    f.write('         <Attribute Type=\"Scalar\" Center=\"Node\" Name=\"zb [m]\">\\n')\n",
    "    f.write('          <DataItem Format=\"HDF\" NumberType=\"Float\" Precision=\"4\" ')\n",
    "    f.write('Dimensions=\"%d %d\">%s:/zb</DataItem>\\n'%(len(ynew),len(xnew),h5ff))\n",
    "    f.write('         </Attribute>\\n')\n",
    "\n",
    "    f.write('         <Attribute Type=\"Scalar\" Center=\"Node\" Name=\"sedero [m]\">\\n')\n",
    "    f.write('          <DataItem Format=\"HDF\" NumberType=\"Float\" Precision=\"4\" ')\n",
    "    f.write('Dimensions=\"%d %d\">%s:/sedero</DataItem>\\n'%(len(ynew),len(xnew),h5ff))\n",
    "    f.write('         </Attribute>\\n')\n",
    "    \n",
    "    f.write('         <Attribute Type=\"Scalar\" Center=\"Node\" Name=\"dzav [m]\">\\n')\n",
    "    f.write('          <DataItem Format=\"HDF\" NumberType=\"Float\" Precision=\"4\" ')\n",
    "    f.write('Dimensions=\"%d %d\">%s:/dzav</DataItem>\\n'%(len(ynew),len(xnew),h5ff))\n",
    "    f.write('         </Attribute>\\n')\n",
    "    \n",
    "    f.write('      </Grid>\\n')\n",
    "    f.write('    </Grid>\\n')\n",
    "    f.write(' </Domain>\\n')\n",
    "    f.write('</Xdmf>\\n')\n",
    "    f.close()\n",
    "    \n",
    "    \n",
    "    xmf_file = str(outDir)+'/sea'+str(step)+'.xmf'\n",
    "    f= open(str(xmf_file),'w')\n",
    "    f.write('<?xml version=\"1.0\" encoding=\"UTF-8\"?>\\n')\n",
    "    f.write('<!DOCTYPE Xdmf SYSTEM \"Xdmf.dtd\">\\n')\n",
    "    f.write('<Xdmf Version=\"2.0\" xmlns:xi=\"http://www.w3.org/2001/XInclude\">\\n')\n",
    "    f.write(' <Domain>\\n')\n",
    "    f.write('    <Grid GridType=\"Collection\" CollectionType=\"Spatial\">\\n')\n",
    "    f.write('      <Time Type=\"Single\" Value=\"%s\"/>\\n'%time[step])\n",
    "    f.write('      <Grid Name=\"Block.0\" GridType=\"Uniform\">\\n')\n",
    "    f.write('         <Topology Type=\"2DCoRectMesh\" NumberOfElements=')\n",
    "    f.write('\"%d %d\"/>\\n'%(znew.shape[0],znew.shape[1]))\n",
    "    f.write('         <Geometry Type=\"ORIGIN_DXDY\">\\n')\n",
    "    f.write('          <DataItem NumberType=\"Float\" Precision=\"4\" ')\n",
    "    f.write('Dimensions=\"%d\">0. 0.</DataItem>\\n'%2)\n",
    "    f.write('          <DataItem NumberType=\"Float\" Precision=\"4\" ')\n",
    "    f.write('Dimensions=\"%d\">10. 10.</DataItem>\\n'%2)\n",
    "    f.write('         </Geometry>\\n')\n",
    "\n",
    "    f.write('         <Attribute Type=\"Scalar\" Center=\"Node\" Name=\"H+zs [m]\">\\n')\n",
    "    f.write('          <DataItem Format=\"HDF\" NumberType=\"Float\" Precision=\"4\" ')\n",
    "    f.write('Dimensions=\"%d %d\">%s:/H</DataItem>\\n'%(len(ynew),len(xnew),h5ff))\n",
    "    f.write('         </Attribute>\\n')\n",
    "    \n",
    "    f.write('         <Attribute Type=\"Scalar\" Center=\"Node\" Name=\"u [m/s]\">\\n')\n",
    "    f.write('          <DataItem Format=\"HDF\" NumberType=\"Float\" Precision=\"4\" ')\n",
    "    f.write('Dimensions=\"%d %d\">%s:/u</DataItem>\\n'%(len(ynew),len(xnew),h5ff))\n",
    "    f.write('         </Attribute>\\n')\n",
    "    \n",
    "    f.write('         <Attribute Type=\"Scalar\" Center=\"Node\" Name=\"v [m/s]\">\\n')\n",
    "    f.write('          <DataItem Format=\"HDF\" NumberType=\"Float\" Precision=\"4\" ')\n",
    "    f.write('Dimensions=\"%d %d\">%s:/v</DataItem>\\n'%(len(ynew),len(xnew),h5ff))\n",
    "    f.write('         </Attribute>\\n')\n",
    "    \n",
    "    f.write('         <Attribute Type=\"Scalar\" Center=\"Node\" Name=\"Fx [N/m2]\">\\n')\n",
    "    f.write('          <DataItem Format=\"HDF\" NumberType=\"Float\" Precision=\"4\" ')\n",
    "    f.write('Dimensions=\"%d %d\">%s:/Fx</DataItem>\\n'%(len(ynew),len(xnew),h5ff))\n",
    "    f.write('         </Attribute>\\n')\n",
    "    \n",
    "    f.write('         <Attribute Type=\"Scalar\" Center=\"Node\" Name=\"Fy [N/m2]\">\\n')\n",
    "    f.write('          <DataItem Format=\"HDF\" NumberType=\"Float\" Precision=\"4\" ')\n",
    "    f.write('Dimensions=\"%d %d\">%s:/Fy</DataItem>\\n'%(len(ynew),len(xnew),h5ff))\n",
    "    f.write('         </Attribute>\\n')\n",
    "    \n",
    "    f.write('      </Grid>\\n')\n",
    "    f.write('    </Grid>\\n')\n",
    "    f.write(' </Domain>\\n')\n",
    "    f.write('</Xdmf>\\n')\n",
    "    f.close()\n",
    "    \n",
    "xdmf_file = str(outDir)+'/bedSeries.xdmf'\n",
    "f= open(str(xdmf_file),'w')\n",
    "\n",
    "f.write('<?xml version=\"1.0\" encoding=\"UTF-8\"?>\\n')\n",
    "f.write('<!DOCTYPE Xdmf SYSTEM \"Xdmf.dtd\">\\n')\n",
    "f.write('<Xdmf Version=\"2.0\" xmlns:xi=\"http://www.w3.org/2001/XInclude\">\\n')\n",
    "f.write(' <Domain>\\n')\n",
    "f.write('    <Grid GridType=\"Collection\" CollectionType=\"Temporal\">\\n')\n",
    "\n",
    "for step in range(len(time)-1):\n",
    "    xfile = 'bed'+str(step)+'.xmf'\n",
    "    f.write('      <xi:include href=\"%s\" xpointer=\"xpointer(//Xdmf/Domain/Grid)\"/>\\n' %xfile)\n",
    "\n",
    "f.write('    </Grid>\\n')\n",
    "f.write(' </Domain>\\n')\n",
    "f.write('</Xdmf>\\n')\n",
    "f.close()\n",
    "\n",
    "xdmf_file = str(outDir)+'/seaSeries.xdmf'\n",
    "f= open(str(xdmf_file),'w')\n",
    "\n",
    "f.write('<?xml version=\"1.0\" encoding=\"UTF-8\"?>\\n')\n",
    "f.write('<!DOCTYPE Xdmf SYSTEM \"Xdmf.dtd\">\\n')\n",
    "f.write('<Xdmf Version=\"2.0\" xmlns:xi=\"http://www.w3.org/2001/XInclude\">\\n')\n",
    "f.write(' <Domain>\\n')\n",
    "f.write('    <Grid GridType=\"Collection\" CollectionType=\"Temporal\">\\n')\n",
    "\n",
    "for step in range(len(time)-1):\n",
    "    xfile = 'sea'+str(step)+'.xmf'\n",
    "    f.write('      <xi:include href=\"%s\" xpointer=\"xpointer(//Xdmf/Domain/Grid)\"/>\\n' %xfile)\n",
    "\n",
    "f.write('    </Grid>\\n')\n",
    "f.write(' </Domain>\\n')\n",
    "f.write('</Xdmf>\\n')\n",
    "f.close()"
   ]
  },
  {
   "cell_type": "markdown",
   "metadata": {
    "collapsed": true
   },
   "source": [
    "To visualise the output in Paraview we will need to copy the folder from the container to the local repository (attached volume).\n",
    "\n",
    "This is done using the following command:"
   ]
  },
  {
   "cell_type": "code",
   "execution_count": null,
   "metadata": {
    "collapsed": true
   },
   "outputs": [],
   "source": [
    "!cp -rf output /workspace/volume/"
   ]
  }
 ],
 "metadata": {
  "kernelspec": {
   "display_name": "Python 2",
   "language": "python",
   "name": "python2"
  },
  "language_info": {
   "codemirror_mode": {
    "name": "ipython",
    "version": 2
   },
   "file_extension": ".py",
   "mimetype": "text/x-python",
   "name": "python",
   "nbconvert_exporter": "python",
   "pygments_lexer": "ipython2",
   "version": "2.7.9"
  }
 },
 "nbformat": 4,
 "nbformat_minor": 0
}
