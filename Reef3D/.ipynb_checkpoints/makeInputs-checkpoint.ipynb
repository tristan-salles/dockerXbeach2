{
 "cells": [
  {
   "cell_type": "code",
   "execution_count": null,
   "metadata": {
    "collapsed": false
   },
   "outputs": [],
   "source": [
    "\n",
    "import sys\n",
    "#!{sys.executable} -m pip install xlrd\n",
    "#!{sys.executable} -m pip install cmocean\n"
   ]
  },
  {
   "cell_type": "code",
   "execution_count": null,
   "metadata": {
    "collapsed": false,
    "deletable": true,
    "editable": true,
    "scrolled": true
   },
   "outputs": [],
   "source": [
    "import xlrd\n",
    "import numpy as np\n",
    "%pylab inline\n",
    "%matplotlib inline\n",
    "import os\n",
    "import glob\n",
    "import h5py\n",
    "import netCDF4\n",
    "\n",
    "from scipy import signal\n",
    "from scipy import interpolate\n",
    "from scipy.interpolate import interp1d\n",
    "from scipy.signal import savgol_filter\n",
    "from scipy.interpolate import griddata\n",
    "\n",
    "import matplotlib as plot\n",
    "import matplotlib.pyplot as plt\n",
    "\n",
    "import cmocean as cmo\n",
    "import matplotlib.pyplot as plt\n",
    "from mpl_toolkits.axes_grid1 import make_axes_locatable\n",
    "\n",
    "%matplotlib inline"
   ]
  },
  {
   "cell_type": "code",
   "execution_count": null,
   "metadata": {
    "collapsed": false
   },
   "outputs": [],
   "source": []
  },
  {
   "cell_type": "markdown",
   "metadata": {
    "deletable": true,
    "editable": true
   },
   "source": [
    "Plotting function"
   ]
  },
  {
   "cell_type": "code",
   "execution_count": null,
   "metadata": {
    "collapsed": false,
    "deletable": true,
    "editable": true
   },
   "outputs": [],
   "source": [
    "def plotData(data,dExtent=None,ctrList=None,fsize=(10,10)):\n",
    "    fig = plt.figure(figsize=fsize)\n",
    "    ax1 = plt.gca()\n",
    "\n",
    "    vmin = data.min()\n",
    "    vmax = data.max()\n",
    "    ax1.set_title('Depth (m)', fontsize=8)\n",
    "    if dExtent is None:\n",
    "        im1 = ax1.imshow(data,interpolation='nearest',\n",
    "                         cmap=cmo.cm.ice_r,vmin=vmin, \n",
    "                         #extent = dExtent,\n",
    "                         vmax=vmax)\n",
    "    else:\n",
    "        im1 = ax1.imshow(data,interpolation='nearest',\n",
    "                         cmap=cmo.cm.ice_r,vmin=vmin, \n",
    "                         extent = dExtent,\n",
    "                         vmax=vmax)\n",
    "    \n",
    "    if ctrList is not None:\n",
    "        ax1.contour(data, ctrList, colors='w',  linewidths=2)\n",
    "        \n",
    "    divider1 = make_axes_locatable(ax1)\n",
    "    cax1 = divider1.append_axes(\"right\", size=\"5%\", pad=0.05)\n",
    "    cbar1 = plt.colorbar(im1,cax=cax1)\n",
    "\n",
    "    plt.tight_layout()\n",
    "    plt.show()\n",
    "    plt.close(fig)\n",
    "    \n",
    "    return"
   ]
  },
  {
   "cell_type": "markdown",
   "metadata": {
    "deletable": true,
    "editable": true
   },
   "source": [
    "# Load the Excel dataset"
   ]
  },
  {
   "cell_type": "code",
   "execution_count": null,
   "metadata": {
    "collapsed": false,
    "deletable": true,
    "editable": true
   },
   "outputs": [],
   "source": [
    "xyz = xlrd.open_workbook('One_tree_North_xyz.xlsx')\n",
    "#xyz = xlrd.open_workbook('xyz_OT_windward.xlsx')\n",
    "print xyz.sheet_names()"
   ]
  },
  {
   "cell_type": "code",
   "execution_count": null,
   "metadata": {
    "collapsed": false,
    "deletable": true,
    "editable": true
   },
   "outputs": [],
   "source": [
    "xyz.sheet_by_name(u'Idealised_small') #.shape"
   ]
  },
  {
   "cell_type": "code",
   "execution_count": null,
   "metadata": {
    "collapsed": false,
    "deletable": true,
    "editable": true
   },
   "outputs": [],
   "source": [
    "page1=xyz.sheet_by_name(u'Idealised_small')\n",
    "#page1=xyz.sheet_by_name(u'xyz_OT_windward1')"
   ]
  },
  {
   "cell_type": "markdown",
   "metadata": {
    "deletable": true,
    "editable": true
   },
   "source": [
    "## read in python"
   ]
  },
  {
   "cell_type": "code",
   "execution_count": null,
   "metadata": {
    "collapsed": false,
    "deletable": true,
    "editable": true
   },
   "outputs": [],
   "source": [
    "x_ini=page1.col_values(0,start_rowx=1)\n",
    "y_ini=page1.col_values(1,start_rowx=1)\n",
    "#if (x_ini[0]==x_ini[1]):\n",
    "#    x_ini=page1.col_values(1,start_rowx=1)\n",
    "#    y_ini=page1.col_values(0,start_rowx=1)\n",
    "\n",
    "\n",
    "z=page1.col_values(2,start_rowx=1)\n",
    "nx_ini=len(x_ini)\n",
    "ny_ini=len(y_ini)\n",
    "\n",
    "\n",
    "nz=len(z)\n",
    "\n",
    "x=[0]*nx_ini\n",
    "y=[0]*ny_ini\n",
    "\n",
    "for i in range (0,nx_ini):\n",
    "    x[i]=abs(x_ini[i]-x_ini[0])\n",
    "\n",
    "for i in range (0,ny_ini):\n",
    "    y[i]=abs(y_ini[i]-y_ini[0])\n",
    "    \n",
    "nx=len(list(set(x)))\n",
    "ny=len(list(set(y)))\n"
   ]
  },
  {
   "cell_type": "markdown",
   "metadata": {
    "deletable": true,
    "editable": true
   },
   "source": [
    "take the list of points from excel and transform these points as a numpy array"
   ]
  },
  {
   "cell_type": "code",
   "execution_count": null,
   "metadata": {
    "collapsed": false,
    "deletable": true,
    "editable": true
   },
   "outputs": [],
   "source": [
    "xarray = np.asarray(x) #.reshape((nx,ny))\n",
    "yarray = np.asarray(y) #.reshape((nx,ny))\n",
    "zarray = np.asarray(z) #.reshape((nx,ny))\n",
    "\n",
    "pointsInput = np.vstack((xarray,yarray)).T"
   ]
  },
  {
   "cell_type": "code",
   "execution_count": null,
   "metadata": {
    "collapsed": false,
    "deletable": true,
    "editable": true
   },
   "outputs": [],
   "source": [
    "zarray.shape"
   ]
  },
  {
   "cell_type": "markdown",
   "metadata": {
    "deletable": true,
    "editable": true
   },
   "source": [
    "# Resample the dataset to desired dx"
   ]
  },
  {
   "cell_type": "code",
   "execution_count": null,
   "metadata": {
    "collapsed": false,
    "deletable": true,
    "editable": true
   },
   "outputs": [],
   "source": [
    "# Resolution you want\n",
    "dx = 5.\n",
    "\n",
    "# MinX, maxX, minY, maxY\n",
    "minX = xarray.min()\n",
    "maxX = xarray.max()\n",
    "minY = yarray.min()\n",
    "maxY = yarray.max()\n",
    "\n",
    "# Create mesh along X-Y\n",
    "xi = np.arange(minX,maxX,dx)\n",
    "yi = np.arange(minY,maxY,dx)\n",
    "xmesh, ymesh = np.meshgrid(xi, yi)"
   ]
  },
  {
   "cell_type": "markdown",
   "metadata": {
    "deletable": true,
    "editable": true
   },
   "source": [
    "Interpolate on finer grid from excel points"
   ]
  },
  {
   "cell_type": "code",
   "execution_count": null,
   "metadata": {
    "collapsed": false,
    "deletable": true,
    "editable": true
   },
   "outputs": [],
   "source": [
    "newz = -griddata(pointsInput, zarray, (xmesh, ymesh), method='cubic')"
   ]
  },
  {
   "cell_type": "markdown",
   "metadata": {
    "deletable": true,
    "editable": true
   },
   "source": [
    "Plotting function"
   ]
  },
  {
   "cell_type": "code",
   "execution_count": null,
   "metadata": {
    "collapsed": false,
    "deletable": true,
    "editable": true
   },
   "outputs": [],
   "source": [
    "dExtent=[xi.min(),xi.max(),yi.min(),yi.max()]\n",
    "ctrList = np.arange(1,40,5)\n",
    "plotData(newz,None,ctrList)\n",
    "plotData(newz,dExtent,None)"
   ]
  },
  {
   "cell_type": "markdown",
   "metadata": {
    "deletable": true,
    "editable": true
   },
   "source": [
    "# Roger's function"
   ]
  },
  {
   "cell_type": "code",
   "execution_count": null,
   "metadata": {
    "collapsed": true,
    "deletable": true,
    "editable": true
   },
   "outputs": [],
   "source": [
    "def rogeralpha(width,lamb):\n",
    "    num = np.abs(np.cos(np.pi/2.*(1+width/lamb)))\n",
    "    denum = 1.-num\n",
    "    return num/denum\n",
    "\n",
    "def rogerhx(x,nu,eps1,eps2):\n",
    "    if x>=nu:\n",
    "        eps = eps1\n",
    "    else:\n",
    "        eps = eps2\n",
    "    return np.exp(-(x-nu)**2/(2.*eps**2)) \n",
    "\n",
    "def rogerhy(alpha,lamb,y):\n",
    "    tmp = (1+alpha)*np.abs(np.cos(np.pi*y/lamb))-alpha\n",
    "    return max(tmp,0)\n",
    "\n",
    "def rogerSAG(hbase,hspr,hx,hy,tide):\n",
    "    return hbase+hspr*hx*hy+tide"
   ]
  },
  {
   "cell_type": "code",
   "execution_count": null,
   "metadata": {
    "collapsed": false,
    "deletable": true,
    "editable": true
   },
   "outputs": [],
   "source": [
    "hSAG = np.zeros((newz.shape))\n"
   ]
  },
  {
   "cell_type": "code",
   "execution_count": null,
   "metadata": {
    "collapsed": true,
    "deletable": true,
    "editable": true
   },
   "outputs": [],
   "source": [
    "def typespag(num):\n",
    "    if num==0:\n",
    "        lamb = 4.   #Alongshore wavelength\n",
    "        hspr = 1.75     #Spur height\n",
    "        nu = 550.      #starting point of spur   \n",
    "        eps1 = 61.   #Spur length\n",
    "        eps2 = 10.     #how quickly it cuts off uphill of the starting point \n",
    "        width = 1.5   #groove width\n",
    "        tide = 0.     #tidal level \n",
    "\n",
    "    if num==1:\n",
    "        lamb =50.\n",
    "        hspr = 0.\n",
    "        nu = 600.\n",
    "        eps1 = 77.\n",
    "        eps2 = 20.\n",
    "        width = 10.\n",
    "        tide = 0.\n",
    "    if num==2:\n",
    "        lamb = 20.\n",
    "        hspr = 2.9\n",
    "        nu =550.\n",
    "        eps1 = 77.\n",
    "        eps2 = 20.\n",
    "        width = 3.\n",
    "        tide = 0.\n",
    "    return lamb,hspr,nu,eps1,eps2,width,tide"
   ]
  },
  {
   "cell_type": "code",
   "execution_count": null,
   "metadata": {
    "collapsed": false,
    "deletable": true,
    "editable": true
   },
   "outputs": [],
   "source": [
    "num=0\n",
    "(lamb,hspr,nu,eps1,eps2,width,tide)=typespag(num)\n",
    "\n",
    "alpha = rogeralpha(width,lamb)\n",
    "\n",
    "for j in range(0,newz.shape[0]):\n",
    "    for i in range(0,newz.shape[1]):\n",
    "        hx = rogerhx(xmesh[j,i],nu,eps1,eps2)\n",
    "        hy = rogerhy(alpha,lamb,ymesh[j,i])\n",
    "        hSAG[j,i] = rogerSAG(newz[j,i],hspr,hx,hy,tide)\n",
    "       \n"
   ]
  },
  {
   "cell_type": "markdown",
   "metadata": {
    "deletable": true,
    "editable": true
   },
   "source": [
    "# Create the friction data list"
   ]
  },
  {
   "cell_type": "code",
   "execution_count": null,
   "metadata": {
    "collapsed": false,
    "deletable": true,
    "editable": true
   },
   "outputs": [],
   "source": [
    "friction_min=0.03\n",
    "friction_max=0.06\n",
    "accuracy=0.01\n",
    "\n",
    "#subtract the original bathy with the one wih the spurs and grooves to outline where they are.\n",
    "h_fric= np.zeros((newz.shape))\n",
    "for j in range(0,newz.shape[0]):\n",
    "    for i in range(0,newz.shape[1]):\n",
    "        if abs(hSAG[j,i]-newz[j,i])>accuracy:\n",
    "            h_fric[j,i]=abs(hSAG[j,i]-newz[j,i])\n",
    "            \n",
    "\n",
    "h_friclist=[]\n",
    "for j in range(0,newz.shape[0]):\n",
    "    for i in range(0,newz.shape[1]):\n",
    "        if h_fric[j,i]!=0.:\n",
    "            h_friclist.append(h_fric[j,i])\n",
    "h_unique=list(set(h_friclist))\n",
    "h_unique_bis=sorted(h_unique)\n",
    "len_h_unique=len(h_unique)\n",
    "\n",
    "\n",
    "\n",
    "friction = np.arange(friction_min,friction_max,(friction_max-friction_min)/len_h_unique)\n",
    "\n",
    "fric=np.ones((newz.shape))\n",
    "fric=friction_min*fric\n",
    "for j in range(0,newz.shape[0]):\n",
    "    for i in range(0,newz.shape[1]):\n",
    "        for l in range(0,len_h_unique):\n",
    "            if h_fric[j,i]==h_unique_bis[l]:\n",
    "                fric[j,i]=friction[l]        \n",
    "        "
   ]
  },
  {
   "cell_type": "code",
   "execution_count": null,
   "metadata": {
    "collapsed": false,
    "deletable": true,
    "editable": true
   },
   "outputs": [],
   "source": [
    "fric=np.ones((newz.shape))\n",
    "fric=friction_max*fric\n",
    "for j in range(0,newz.shape[0]):\n",
    "    for i in range(0,newz.shape[1]):\n",
    "        for l in range(0,len_h_unique):\n",
    "            if h_fric[j,i]==h_unique_bis[l]:\n",
    "                fric[j,i]=friction[l]\n",
    "for j in range(0,newz.shape[0]):\n",
    "    for i in range(0,newz.shape[1]):\n",
    "            if fric[j,i]!=friction_max:\n",
    "                fric[j,i]=friction_min\n",
    "                "
   ]
  },
  {
   "cell_type": "code",
   "execution_count": null,
   "metadata": {
    "collapsed": false,
    "deletable": true,
    "editable": true,
    "scrolled": false
   },
   "outputs": [],
   "source": [
    "plotData(hSAG,None,ctrList)\n",
    "plotData(hSAG,dExtent,None)\n",
    "plotData(fric,dExtent,None)\n",
    "plotData(h_fric,dExtent,None)"
   ]
  },
  {
   "cell_type": "code",
   "execution_count": null,
   "metadata": {
    "collapsed": false,
    "deletable": true,
    "editable": true
   },
   "outputs": [],
   "source": [
    "x = xmesh.T.flatten().tolist()\n",
    "y = ymesh.T.flatten().tolist()\n",
    "z = hSAG.T.flatten().tolist()\n",
    "c_friction=fric.T.flatten().tolist()\n",
    "\n",
    "nx=len(list(set(x)))\n",
    "ny=len(list(set(y)))\n",
    "nz=len(z)"
   ]
  },
  {
   "cell_type": "code",
   "execution_count": null,
   "metadata": {
    "collapsed": false,
    "deletable": true,
    "editable": true
   },
   "outputs": [],
   "source": [
    "def grd(x,nx,ny,y):\n",
    "    \n",
    "    syst='Coordinate System = Cartesian'\n",
    "    nx_str=str(nx)\n",
    "    ny_str=str(ny)\n",
    "    nx_ny=nx_str+' '+ny_str\n",
    "    list_header=[syst,nx_ny,'0 0 0','']\n",
    "    header=\"\\n\".join(list_header)\n",
    "    \n",
    "    if (x[0]==x[1]):\n",
    "        len_list=ny*2+(nx+1)*2*ny\n",
    "        xy_list=['0']*len_list\n",
    "        \n",
    "        for l in range (0,2*ny):\n",
    "            xy_list[l*(nx+2)]=\"ETA\"\n",
    "            xy_list[1+l*(nx+2)]=str(l%ny+1)\n",
    "        \n",
    "        y_start=2+(nx+2)*(ny)\n",
    "        for i in range (0,ny):\n",
    "            for j in range (0,nx):\n",
    "                xy_list[2+(nx+2)*i+j]=str(x[i+j*ny])\n",
    "                xy_list[y_start+(nx+2)*i+j]=str(y[i+j*ny])\n",
    "                \n",
    "        \n",
    "    else:     \n",
    "        len_list=ny*2+(nx+1)*2*ny\n",
    "        xy_list=['0']*len_list\n",
    "        \n",
    "        for l in range (0,2*ny):\n",
    "            xy_list[l*(nx+2)]=\"ETA\"\n",
    "            xy_list[1+l*(nx+2)]=str(l%ny+1)\n",
    "        \n",
    "        y_start=2+(nx+2)*(ny)\n",
    "        for i in range (0,ny):\n",
    "            for j in range (0,nx):\n",
    "                xy_list[2+(nx+2)*i+j]=str(x[j+i*nx])\n",
    "                xy_list[y_start+(nx+2)*i+j]=str(y[j+i*nx])\n",
    "                \n",
    "                \n",
    "                \n",
    "    xy=\" \".join(xy_list)\n",
    "    file_complete=header+xy\n",
    "    newfile= open(\"xy.grd\", \"w\")\n",
    "    newfile.write(file_complete)\n",
    "    newfile.close()\n",
    "    \n",
    "    dfile = file('xy.grd','r')\n",
    "    efile = file('xy2.grd','w')\n",
    "    efile.write(dfile.read().replace('ETA', '\\nETA'))\n",
    "    \n",
    "    \n",
    "    \n",
    "    return\n",
    "        "
   ]
  },
  {
   "cell_type": "code",
   "execution_count": null,
   "metadata": {
    "collapsed": false
   },
   "outputs": [],
   "source": [
    "dfile = file('untitled.txt','r')\n",
    "efile = file('untitled2.txt','w')\n",
    "efile.write(dfile.read().replace(' ', '\\n '))"
   ]
  },
  {
   "cell_type": "code",
   "execution_count": null,
   "metadata": {
    "collapsed": false,
    "deletable": true,
    "editable": true,
    "scrolled": true
   },
   "outputs": [],
   "source": [
    "grd(x,nx,ny,y)"
   ]
  },
  {
   "cell_type": "code",
   "execution_count": null,
   "metadata": {
    "collapsed": true,
    "deletable": true,
    "editable": true
   },
   "outputs": [],
   "source": [
    "def bed(x,z,nz,nx,ny):\n",
    "    bed_list=[]\n",
    "    reef_list=[]\n",
    "    nx_value=''\n",
    "    reef_nx_value=''\n",
    "    \n",
    "    if (x[0]==x[1]):\n",
    "        for i in range(0,ny):\n",
    "            for j in range (0,nx):\n",
    "                #nx_value=nx_value+str(-z[i+j*ny])+' '\n",
    "                nx_value=str(z[i+j*ny])+' '+nx_value\n",
    "                reef_nx_value=reef_nx_value+'0'+' '\n",
    "            bed_list=bed_list+[nx_value]\n",
    "            reef_list=reef_list+[reef_nx_value]\n",
    "            nx_value=''\n",
    "            reef_nx_value=''  \n",
    "        \n",
    "        \n",
    "        \n",
    "    else:\n",
    "        for j in range(0,ny):\n",
    "            for i in range (0,nx):\n",
    "                #nx_value=nx_value+str(-z[i+j*nx])+' '\n",
    "                nx_value=str(z[i+j*ny])+' '+nx_value\n",
    "                reef_nx_value=reef_nx_value+'0'+' '\n",
    "            bed_list=bed_list+[nx_value]\n",
    "            reef_list=reef_list+[reef_nx_value]\n",
    "            nx_value=''\n",
    "            reef_nx_value=''\n",
    "     \n",
    "    bed=\"\\n\".join(bed_list)\n",
    "    reef=\"\\n\".join(reef_list)\n",
    "    \n",
    "    \n",
    "    \n",
    "    newfile= open(\"bed.dep\", \"w\")\n",
    "    newfile.write(bed)\n",
    "    newfile.close()\n",
    "    \n",
    "    newfile= open(\"reef.dep\", \"w\")\n",
    "    newfile.write(reef)\n",
    "    newfile.close()\n",
    "    return"
   ]
  },
  {
   "cell_type": "code",
   "execution_count": null,
   "metadata": {
    "collapsed": false,
    "deletable": true,
    "editable": true
   },
   "outputs": [],
   "source": [
    "bed(x,z,nz,nx,ny)"
   ]
  },
  {
   "cell_type": "code",
   "execution_count": null,
   "metadata": {
    "collapsed": false,
    "deletable": true,
    "editable": true
   },
   "outputs": [],
   "source": [
    "#c_friction=[0.03]*nz"
   ]
  },
  {
   "cell_type": "code",
   "execution_count": null,
   "metadata": {
    "collapsed": true,
    "deletable": true,
    "editable": true
   },
   "outputs": [],
   "source": [
    "def frictionc(c_friction,nx,ny):\n",
    "    c_list=[]\n",
    "    c_value=''\n",
    "       \n",
    "    for j in range(0,ny):\n",
    "        for i in range (0,nx):\n",
    "            c_value=str(c_friction[i+j*ny])+' '+c_value\n",
    "        c_list=c_list+[c_value]\n",
    "        c_value=''\n",
    "    c=\"\\n\".join(c_list)\n",
    "    newfile= open(\"fwfile.txt\", \"w\")\n",
    "    newfile.write(c)\n",
    "    newfile.close()\n",
    "    return"
   ]
  },
  {
   "cell_type": "code",
   "execution_count": null,
   "metadata": {
    "collapsed": false,
    "deletable": true,
    "editable": true
   },
   "outputs": [],
   "source": [
    "frictionc(c_friction,nx,ny)"
   ]
  },
  {
   "cell_type": "markdown",
   "metadata": {
    "deletable": true,
    "editable": true
   },
   "source": [
    "# Find the x and y coordinate for a maximum spur and a minimum groove"
   ]
  },
  {
   "cell_type": "markdown",
   "metadata": {
    "deletable": true,
    "editable": true
   },
   "source": [
    "First, find the spurs coordinate in the x and y list. this outputs the x and the y coordinate which then are input into the next cell. c=h_fric[:,the y]. \n",
    "\n",
    "when using a + in the rogers function this cell outputs the location of the grooves\n",
    "when using a - in the rogers function this cell outputs the location of the spurs"
   ]
  },
  {
   "cell_type": "code",
   "execution_count": null,
   "metadata": {
    "collapsed": false,
    "deletable": true,
    "editable": true
   },
   "outputs": [],
   "source": [
    "for j in range(0,newz.shape[0]):\n",
    "    for i in range(0,newz.shape[1]):\n",
    "        if abs(hSAG[j,i]-newz[j,i])>accuracy:\n",
    "            h_fric[j,i]=abs(hSAG[j,i]-newz[j,i])\n",
    "a=np.max(h_fric)\n",
    "np.where(h_fric==a)"
   ]
  },
  {
   "cell_type": "markdown",
   "metadata": {
    "deletable": true,
    "editable": true
   },
   "source": [
    "Then, with the same coordinate in the x list, we find the grooves coordinate in the y list\n",
    "\n",
    "when using a - in the rogers function this cell outputs the location of the grooves\n",
    "when using a + in the rogers function this cell outputs the location of the spurs"
   ]
  },
  {
   "cell_type": "code",
   "execution_count": null,
   "metadata": {
    "collapsed": false,
    "deletable": true,
    "editable": true,
    "scrolled": true
   },
   "outputs": [],
   "source": [
    "c=h_fric[:,110]\n",
    "b=np.amin(c)\n",
    "np.where(c==b)"
   ]
  },
  {
   "cell_type": "markdown",
   "metadata": {
    "deletable": true,
    "editable": true
   },
   "source": [
    "Then, find the x and y coordinate in the mesh. this outputs the coordinates in metres "
   ]
  },
  {
   "cell_type": "code",
   "execution_count": null,
   "metadata": {
    "collapsed": false,
    "deletable": true,
    "editable": true
   },
   "outputs": [],
   "source": [
    "print yi[42],yi[44]"
   ]
  },
  {
   "cell_type": "code",
   "execution_count": null,
   "metadata": {
    "collapsed": false,
    "deletable": true,
    "editable": true
   },
   "outputs": [],
   "source": [
    "points_max=900 # x coordinate for the last point. the values are inverted. ie the orgin is in the bottom right of the plt\n",
    "points_min=500  # x coordinate for the first point\n",
    "npoints=50\n",
    "arr_points = np.arange(points_min,points_max,(points_max-points_min)/npoints)\n",
    "points=arr_points.tolist()\n",
    "#points[0]=300\n",
    "point_list=[]\n",
    "for i in range(0,npoints):\n",
    "    point_value=str(points[i])+' '+'210'   #this value comes from the coordinate of the spurs in metres\n",
    "    point_list=point_list+[point_value]   \n",
    "for i in range(0,npoints):\n",
    "    point_value=str(points[i])+' '+'220'   #this value comes from the coordinate of the grooves in metres\n",
    "    point_list=point_list+[point_value]\n",
    "p=\"\\n\".join(point_list)\n",
    "newfile= open(\"point.txt\", \"w\")\n",
    "newfile.write(p)\n",
    "newfile.close()"
   ]
  },
  {
   "cell_type": "markdown",
   "metadata": {
    "deletable": true,
    "editable": true
   },
   "source": [
    "# this cell creates the input waves for the non-hydrostatic mode"
   ]
  },
  {
   "cell_type": "code",
   "execution_count": null,
   "metadata": {
    "collapsed": false,
    "deletable": true,
    "editable": true
   },
   "outputs": [],
   "source": [
    "H=0.15 # amplitude of the sinusoidal u --> height of the wave\n",
    "T=17 # period of the sinusoidal u --> The greater the period the larger the wave\n",
    "T_wave=20 # period of the wave --> time between two waves\n",
    "tstop=300\n",
    "nonhyd=[]\n",
    "\n",
    "#time = nc_data.variables['globaltime'][:]\n",
    "time=np.arange(0,tstop,1)\n",
    "\n",
    "u = H*np.sin(time*2*np.pi/T)+H\n",
    "u_period=u[:T+1]\n",
    "a=np.where(u_period==np.min(u_period))\n",
    "b=a[0][0]\n",
    "u_bis=u[b-1:b+T+1]\n",
    "u_bis[0]=0.0\n",
    "\n",
    "for j in range(0,tstop,size(u_bis)+T_wave):\n",
    "    for i in range(0,size(u_bis)):\n",
    "        value=str(time[i+j])+' '+str(u_bis[i])\n",
    "        nonhyd=nonhyd+[value]\n",
    "nhyd=\"\\n\".join(nonhyd)\n",
    "newfile= open(\"Boun_U.bcf\", \"w\")\n",
    "newfile.write(nhyd)\n",
    "newfile.close()\n",
    "\n",
    "# this creates the numbers for the output, but you need to add this at the beginning of the file before giving it to XBeach.\n",
    "#    scalar\n",
    "#    2\n",
    "#    t U\n",
    "\n",
    "\n"
   ]
  },
  {
   "cell_type": "code",
   "execution_count": null,
   "metadata": {
    "collapsed": true,
    "deletable": true,
    "editable": true
   },
   "outputs": [],
   "source": []
  },
  {
   "cell_type": "code",
   "execution_count": null,
   "metadata": {
    "collapsed": true
   },
   "outputs": [],
   "source": []
  }
 ],
 "metadata": {
  "kernelspec": {
   "display_name": "Python 2",
   "language": "python",
   "name": "python2"
  },
  "language_info": {
   "codemirror_mode": {
    "name": "ipython",
    "version": 2
   },
   "file_extension": ".py",
   "mimetype": "text/x-python",
   "name": "python",
   "nbconvert_exporter": "python",
   "pygments_lexer": "ipython2",
   "version": "2.7.9"
  }
 },
 "nbformat": 4,
 "nbformat_minor": 0
}
